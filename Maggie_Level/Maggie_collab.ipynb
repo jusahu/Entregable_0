{
  "nbformat": 4,
  "nbformat_minor": 0,
  "metadata": {
    "colab": {
      "provenance": []
    },
    "kernelspec": {
      "name": "python3",
      "display_name": "Python 3"
    },
    "language_info": {
      "name": "python"
    }
  },
  "cells": [
    {
      "cell_type": "code",
      "execution_count": null,
      "metadata": {
        "colab": {
          "base_uri": "https://localhost:8080/"
        },
        "id": "TNGfK9K4jvCg",
        "outputId": "9ac1d726-9548-4e9c-f7ac-109dd0090892"
      },
      "outputs": [
        {
          "output_type": "stream",
          "name": "stdout",
          "text": [
            "El personaje Homer Simpson ha dicho: Gah, stupid sexy Flanders!\n"
          ]
        }
      ],
      "source": [
        "from requests.models import Response\n",
        "# ENTREGABLE 0: \"MAGGIE LEVEL\"\n",
        "\n",
        "import requests\n",
        "import json\n",
        "\n",
        "import threading\n",
        "import time\n",
        "\n",
        "#Le pedimos a la API que nos de los datos:\n",
        "#URL = 'https://thesimpsonsquoteapi.glitch.me/quotes'\n",
        "#r = requests.get(URL)\n",
        "#response = r.text\n",
        "#print(response)\n",
        "\n",
        "#Le pedimos a la API que nos de los datos separando quote y character:\n",
        "#URL = 'https://thesimpsonsquoteapi.glitch.me/quotes'\n",
        "#response = requests.get(URL)\n",
        "#datos = response.json()\n",
        "#quote = datos[0][\"quote\"]\n",
        "#character = datos[0][\"character\"]\n",
        "#print(f\"El personaje {character} ha dicho: {quote}\")\n",
        "\n",
        "#Hacemos una petición a la API cada 30 segundos:\n",
        "for i in range(10):\n",
        "  URL = 'https://thesimpsonsquoteapi.glitch.me/quotes'\n",
        "  response = requests.get(URL)\n",
        "  datos = response.json()\n",
        "  quote = datos[0][\"quote\"]\n",
        "  character = datos[0][\"character\"]\n",
        "  print(f\"El personaje {character} ha dicho: {quote}\")\n",
        "  time.sleep(30)\n",
        "\n",
        "\n",
        "\n",
        "\n",
        "\n",
        "\n"
      ]
    }
  ]
}